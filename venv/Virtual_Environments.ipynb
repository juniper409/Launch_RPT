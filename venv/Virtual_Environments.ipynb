{
 "cells": [
  {
   "cell_type": "markdown",
   "id": "651d55b7-d2e4-4a64-8653-853f0a2157dd",
   "metadata": {
    "tags": []
   },
   "source": [
    "## Virtual Environments"
   ]
  },
  {
   "cell_type": "markdown",
   "id": "742243b0-2814-46e2-abff-656705d2748d",
   "metadata": {},
   "source": [
    "### Create Virtual Environment"
   ]
  },
  {
   "cell_type": "markdown",
   "id": "910041dc-a164-4428-b00b-ddb874290053",
   "metadata": {},
   "source": [
    "Typically a virtual enviroment should be within an \"venv\" directory within the project folder. Name the environment \"venv\"."
   ]
  },
  {
   "cell_type": "code",
   "execution_count": null,
   "id": "c7086dc3-b900-4de7-ac06-defff3da1362",
   "metadata": {},
   "outputs": [],
   "source": [
    "python -m venv <Env. Name>"
   ]
  },
  {
   "cell_type": "markdown",
   "id": "1497dd04-e484-452b-b3a1-eda39c77928a",
   "metadata": {},
   "source": [
    "### Activate Environment"
   ]
  },
  {
   "cell_type": "code",
   "execution_count": null,
   "id": "beaba845-e6d1-4a73-a436-e34744c11642",
   "metadata": {},
   "outputs": [],
   "source": [
    "Source <Env. Name>/bin/activate"
   ]
  },
  {
   "cell_type": "markdown",
   "id": "ac26040a-5956-4ae2-ac11-c80f35443498",
   "metadata": {},
   "source": [
    "### To export to a requirements.txt list"
   ]
  },
  {
   "cell_type": "code",
   "execution_count": null,
   "id": "f32fd751-2db1-4221-98fa-f14b6f96bbe1",
   "metadata": {},
   "outputs": [],
   "source": [
    "pip freeze > requirements.txt"
   ]
  },
  {
   "cell_type": "markdown",
   "id": "573fbe85-0d7b-4b45-b822-13244b728c4f",
   "metadata": {},
   "source": [
    "### Deactivate Environment"
   ]
  },
  {
   "cell_type": "code",
   "execution_count": null,
   "id": "29a338f6-c440-4021-bc6a-374f42370274",
   "metadata": {},
   "outputs": [],
   "source": [
    "deactivate"
   ]
  },
  {
   "cell_type": "markdown",
   "id": "75451090-f032-4a5a-9e7d-08d651103b2b",
   "metadata": {},
   "source": [
    "### Delete Environment"
   ]
  },
  {
   "cell_type": "code",
   "execution_count": null,
   "id": "46b4641f-726e-496c-a64a-e8587a3cc15a",
   "metadata": {},
   "outputs": [],
   "source": [
    "rm -rf <Env. Name>/"
   ]
  },
  {
   "cell_type": "markdown",
   "id": "d0bc6e87-6639-4f90-8543-72fdefee8647",
   "metadata": {},
   "source": [
    "### Install From requirements.txt"
   ]
  },
  {
   "cell_type": "markdown",
   "id": "9c30e651-828d-49d3-a434-856c324efb51",
   "metadata": {},
   "source": [
    "pip install -r requirements.txt"
   ]
  }
 ],
 "metadata": {
  "kernelspec": {
   "display_name": "Python 3.10.1 64-bit",
   "language": "python",
   "name": "python3101jvsc74a57bd0aee8b7b246df8f9039afb4144a1f6fd8d2ca17a180786b69acc140d282b71a49"
  },
  "language_info": {
   "name": ""
  }
 },
 "nbformat": 4,
 "nbformat_minor": 5
}
